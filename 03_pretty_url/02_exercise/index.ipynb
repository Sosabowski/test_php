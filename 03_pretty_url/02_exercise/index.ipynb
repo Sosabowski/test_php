{
 "cells": [
  {
   "cell_type": "markdown",
   "metadata": {},
   "source": [
    "# PHP"
   ]
  },
  {
   "cell_type": "markdown",
   "metadata": {},
   "source": [
    "## 3. Pretty URL"
   ]
  },
  {
   "cell_type": "markdown",
   "metadata": {},
   "source": [
    "### 3.2 Exercise"
   ]
  },
  {
   "cell_type": "markdown",
   "metadata": {},
   "source": [
    "Refactor the code to use ```$_SERVER['REQUEST_URI']``` to handle all requests in a single ```index.php``` script.\n",
    "\n",
    "Final project structure:\n",
    "\n",
    "```bash\n",
    "project/\n",
    "├── public\n",
    "│   ├── index.php\n",
    "│   └── style.css\n",
    "└── views\n",
    "    ├── 404.php\n",
    "    ├── about.php\n",
    "    ├── home.php\n",
    "    ├── layout.php\n",
    "    ├── menu.php\n",
    "    ├── user.php\n",
    "    └── users.php\n",
    "\n",
    "2 directories, 9 files\n",
    "```\n",
    "\n",
    "To start editing the code run:"
   ]
  },
  {
   "cell_type": "code",
   "execution_count": null,
   "metadata": {},
   "outputs": [],
   "source": [
    "! phpstorm project"
   ]
  },
  {
   "cell_type": "markdown",
   "metadata": {},
   "source": [
    "You can test your solution using included tests:"
   ]
  },
  {
   "cell_type": "code",
   "execution_count": 5,
   "metadata": {},
   "outputs": [
    {
     "name": "stderr",
     "output_type": "stream",
     "text": [
      "[Thu Mar 21 14:34:56 2024] Failed to listen on localhost:8888 (reason: Address already in use)\n"
     ]
    }
   ],
   "source": [
    "import subprocess\n",
    "phpServer = subprocess.Popen(['php', '-S', 'localhost:8888', '-t', 'project/public'])"
   ]
  },
  {
   "cell_type": "code",
   "execution_count": 8,
   "metadata": {},
   "outputs": [
    {
     "name": "stdout",
     "output_type": "stream",
     "text": [
      "\u001b[32mInstalling dependencies from lock file (including require-dev)\u001b[39m\n",
      "\u001b[32mVerifying lock file contents can be installed on current platform.\u001b[39m\n",
      "Nothing to install, update or remove\n",
      "\u001b[32mGenerating autoload files\u001b[39m\n",
      "\u001b[32m43 packages you are using are looking for funding.\u001b[39m\n",
      "\u001b[32mUse the `composer fund` command to find out more!\u001b[39m\n",
      "Codeception PHP Testing Framework v5.1.0 https://stand-with-ukraine.pp.ua\n",
      "\n",
      "\u001b[1mTests.Acceptance Tests (1) \u001b[22m-----------------------------------------------------\n",
      "\u001b[31;1m✖\u001b[39;22m \u001b[35;1mTest01_PrettyUrlCest:\u001b[39;22m Test\u001b[32m(0.05s)\u001b[39m\n",
      "--------------------------------------------------------------------------------\n",
      "Time: 00:00.138, Memory: 14.00 MB\n",
      "\n",
      "There was 1 failure:\n",
      "1) \u001b[35;1mTest01_PrettyUrlCest:\u001b[39;22m Test\n",
      "\u001b[37;41;1m Test  \u001b[39;49;22mtests/Acceptance/Test01_PrettyUrlCest.php:test\n",
      "\u001b[37;41;1m Step \u001b[39;49;22m See \"Pretty URL test application!\"\n",
      "\u001b[37;41;1m Fail \u001b[39;49;22m Failed asserting that on page /about\n",
      "-->  Pretty URL Home About Users Lorem Ipsum \n",
      "--> contains \"Pretty URL test application!\".\n",
      "\u001b[33m\n",
      "Scenario Steps:\n",
      "\u001b[39m\n",
      "\u001b[1m 9. $I->see(\"Pretty URL test application!\")\u001b[22m at \u001b[32mtests/Acceptance/Test01_PrettyUrlCest.php:21\u001b[39m\n",
      " 8. $I->seeCurrentUrlEquals(\"/about\") at \u001b[32mtests/Acceptance/Test01_PrettyUrlCest.php:20\u001b[39m\n",
      " 7. $I->click(\"About\") at \u001b[32mtests/Acceptance/Test01_PrettyUrlCest.php:19\u001b[39m\n",
      " 6. $I->see(\"Welcome on homepage!\") at \u001b[32mtests/Acceptance/Test01_PrettyUrlCest.php:17\u001b[39m\n",
      " 5. $I->seeCurrentUrlEquals(\"/home\") at \u001b[32mtests/Acceptance/Test01_PrettyUrlCest.php:16\u001b[39m\n",
      " 4. $I->click(\"Home\") at \u001b[32mtests/Acceptance/Test01_PrettyUrlCest.php:15\u001b[39m\n",
      "\n",
      "\u001b[33mArtifacts:\u001b[39m\n",
      "\n",
      "Html: \u001b[36m/home/student/php_2024_wiktor_salwa/03_pretty_url/02_exercise/tests/tests/_output/Tests.Acceptance.Test01_PrettyUrlCest.test.fail.html\u001b[39m\n",
      "Response: \u001b[36m/home/student/php_2024_wiktor_salwa/03_pretty_url/02_exercise/tests/tests/_output/Tests.Acceptance.Test01_PrettyUrlCest.test.fail.html\u001b[39m\n",
      "\n",
      "\u001b[37;41;1mFAILURES!\u001b[39;49;22m\n",
      "\u001b[37;41;1mTests: 1, Assertions: 6, Failures: 1.\u001b[39;49;22m\n"
     ]
    },
    {
     "name": "stderr",
     "output_type": "stream",
     "text": [
      "[Thu Mar 21 14:35:51 2024] [::1]:49970 Accepted\n",
      "[Thu Mar 21 14:35:51 2024] [::1]:49970 [200]: GET /\n",
      "[Thu Mar 21 14:35:51 2024] [::1]:49970 Closing\n",
      "[Thu Mar 21 14:35:51 2024] [::1]:49974 Accepted\n",
      "[Thu Mar 21 14:35:51 2024] [::1]:49974 [200]: GET /home\n",
      "[Thu Mar 21 14:35:51 2024] [::1]:49974 Closing\n",
      "[Thu Mar 21 14:35:51 2024] [::1]:49984 Accepted\n",
      "[Thu Mar 21 14:35:51 2024] [::1]:49984 [200]: GET /about\n",
      "[Thu Mar 21 14:35:51 2024] [::1]:49984 Closing\n"
     ]
    }
   ],
   "source": [
    "! cd tests && composer install && vendor/bin/codecept run"
   ]
  },
  {
   "cell_type": "code",
   "execution_count": 4,
   "metadata": {},
   "outputs": [],
   "source": [
    "phpServer.kill()"
   ]
  }
 ],
 "metadata": {
  "kernelspec": {
   "display_name": "Python 3 (ipykernel)",
   "language": "python",
   "name": "python3"
  },
  "language_info": {
   "codemirror_mode": {
    "name": "ipython",
    "version": 3
   },
   "file_extension": ".py",
   "mimetype": "text/x-python",
   "name": "python",
   "nbconvert_exporter": "python",
   "pygments_lexer": "ipython3",
   "version": "3.11.5"
  }
 },
 "nbformat": 4,
 "nbformat_minor": 4
}
