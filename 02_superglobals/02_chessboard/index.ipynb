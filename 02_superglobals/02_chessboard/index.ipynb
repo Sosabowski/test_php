{
 "cells": [
  {
   "cell_type": "markdown",
   "metadata": {},
   "source": [
    "# PHP"
   ]
  },
  {
   "cell_type": "markdown",
   "metadata": {},
   "source": [
    "## 2. Superglobals"
   ]
  },
  {
   "cell_type": "markdown",
   "metadata": {},
   "source": [
    "### 2.2 Chessboard"
   ]
  },
  {
   "cell_type": "markdown",
   "metadata": {},
   "source": [
    "Requirements:\n",
    "\n",
    "- The colour of the array is sored in a cookie\n",
    "- The default colour is grey, but it can be changed to magenta, yellow and cyan\n",
    "- The size of the chessboard is stored in the session and can be configured using the post method\n",
    "- The default size is 5 rows by 5 columns\n",
    "- The array is constructed from links that can be clicked\n",
    "- After clicking two points, a white line is drawn between the points\n",
    "- Multiple lines can be added\n",
    "\n",
    "When in doubt, run the acceptance tests :)"
   ]
  },
  {
   "cell_type": "markdown",
   "metadata": {},
   "source": [
    "To start editing run:"
   ]
  },
  {
   "cell_type": "code",
   "execution_count": 4,
   "metadata": {},
   "outputs": [
    {
     "name": "stdout",
     "output_type": "stream",
     "text": [
      "CompileCommand: exclude com/intellij/openapi/vfs/impl/FilePartNodeRoot.trieDescend bool exclude = true\n",
      "2024-03-13 11:55:42,197 [   2248]   WARN - #c.i.s.ComponentManagerImpl - `preload=true` must be used only for core services (service=com.intellij.ae.database.core.baseEvents.fus.AddStatisticsEventLogListenerTemporary, plugin=com.jetbrains.ae.database)\n",
      "2024-03-13 11:55:42,199 [   2250]   WARN - #c.i.s.ComponentManagerImpl - `preload=true` must be used only for core services (service=com.jetbrains.rdserver.statistics.BackendStatisticsManager, plugin=com.jetbrains.codeWithMe)\n",
      "2024-03-13 11:55:43,642 [   3693]   WARN - #c.i.s.ComponentManagerImpl - com.intellij.psi.search.FilenameIndex initializer requests com.intellij.ide.plugins.PluginUtil instance\n",
      "2024-03-13 11:55:44,668 [   4719]   WARN - #c.i.s.ComponentManagerImpl - com.intellij.lang.javascript.psi.jsdoc.impl.JSDocCustomTags initializer requests com.intellij.lang.javascript.JSDisposable instance\n",
      "2024-03-13 11:55:45,329 [   5380]   WARN - #c.i.o.v.n.p.d.e.DurableEnumeratorFactory - [enumerator.mmapped]: .valueToId map is out-of-sync with .valuesLog data -> rebuilding it\n",
      "2024-03-13 11:55:45,553 [   5604]   WARN - #c.i.s.ComponentManagerImpl - org.zmlx.hg4idea.provider.HgChangeProvider initializer requests com.intellij.openapi.vcs.FileStatusFactory instance\n",
      "2024-03-13 11:55:45,577 [   5628]   WARN - #c.i.s.ComponentManagerImpl - com.intellij.psi.LanguageSubstitutors initializer requests com.intellij.psi.LanguageSubstitutors instance\n",
      "2024-03-13 11:55:47,786 [   7837]   WARN - #c.i.o.a.i.ActionUpdater - 466 ms to grab EDT for ToolWindowHeader$2#Update@ToolwindowTitle (com.intellij.toolWindow.ToolWindowHeader$2)\n",
      "2024-03-13 11:55:48,121 [   8172]   WARN - #c.i.o.a.i.ActionUpdater - 334 ms to grab EDT for ToolWindowHeader$2#GetChildren@ToolwindowTitle (com.intellij.toolWindow.ToolWindowHeader$2)\n",
      "2024-03-13 11:55:48,618 [   8669]   WARN - #c.i.o.a.i.ActionUpdater - 495 ms to grab EDT for DockToolWindowAction#Update@ToolwindowTitle (com.intellij.openapi.wm.impl.DockToolWindowAction)\n",
      "2024-03-13 11:55:49,703 [   9754]   WARN - #c.i.o.a.i.ActionUpdater - 1061 ms to grab EDT for ToolWindowHeader$2#Update@ToolwindowTitle (com.intellij.toolWindow.ToolWindowHeader$2)\n",
      "2024-03-13 11:55:49,705 [   9756]   WARN - #c.i.o.a.i.ActionUpdater - 1062 ms to grab EDT for JoinCallAction#Update@MainToolbar (com.jetbrains.rd.platform.codeWithMe.telephony.JoinCallAction)\n",
      "2024-03-13 11:55:50,160 [  10211]   WARN - #c.i.o.a.i.ActionUpdater - 345 ms to grab EDT for DockToolWindowAction#Update@ToolwindowTitle (com.intellij.openapi.wm.impl.DockToolWindowAction)\n",
      "2024-03-13 11:55:50,161 [  10212]   WARN - #c.i.o.a.i.ActionUpdater - 346 ms to grab EDT for ExpandAllAction#Update@ToolwindowTitle (com.intellij.ide.actions.ExpandAllAction)\n",
      "2024-03-13 11:55:50,163 [  10214]   WARN - #c.i.o.a.i.ActionUpdater - 348 ms to grab EDT for CollapseAllAction#Update@ToolwindowTitle (com.intellij.ide.actions.CollapseAllAction)\n",
      "2024-03-13 11:55:51,107 [  11158]   WARN - #c.i.i.s.i.StartupManagerImpl - Migrate com.jetbrains.php.tools.quality.psalm.PsalmSettingsTransferStartupActivity to ProjectActivity [Plugin: com.intellij.php.psalm]\n",
      "com.intellij.diagnostic.PluginException: Migrate com.jetbrains.php.tools.quality.psalm.PsalmSettingsTransferStartupActivity to ProjectActivity [Plugin: com.intellij.php.psalm]\n",
      "\tat com.intellij.ide.startup.impl.StartupManagerImpl.runPostStartupActivities(StartupManagerImpl.kt:277)\n",
      "\tat com.intellij.ide.startup.impl.StartupManagerImpl.access$runPostStartupActivities(StartupManagerImpl.kt:69)\n",
      "\tat com.intellij.ide.startup.impl.StartupManagerImpl$runPostStartupActivities$3$2.invokeSuspend(StartupManagerImpl.kt:192)\n",
      "\tat com.intellij.ide.startup.impl.StartupManagerImpl$runPostStartupActivities$3$2.invoke(StartupManagerImpl.kt)\n",
      "\tat com.intellij.ide.startup.impl.StartupManagerImpl$runPostStartupActivities$3$2.invoke(StartupManagerImpl.kt)\n",
      "\tat kotlinx.coroutines.intrinsics.UndispatchedKt.startUndispatchedOrReturn(Undispatched.kt:78)\n",
      "\tat kotlinx.coroutines.BuildersKt__Builders_commonKt.withContext(Builders.common.kt:167)\n",
      "\tat kotlinx.coroutines.BuildersKt.withContext(Unknown Source)\n",
      "\tat com.intellij.ide.startup.impl.StartupManagerImpl$runPostStartupActivities$3.invokeSuspend(StartupManagerImpl.kt:191)\n",
      "\tat kotlin.coroutines.jvm.internal.BaseContinuationImpl.resumeWith(ContinuationImpl.kt:33)\n",
      "\tat kotlinx.coroutines.UndispatchedCoroutine.afterResume(CoroutineContext.kt:270)\n",
      "\tat kotlinx.coroutines.AbstractCoroutine.resumeWith(AbstractCoroutine.kt:102)\n",
      "\tat kotlin.coroutines.jvm.internal.BaseContinuationImpl.resumeWith(ContinuationImpl.kt:46)\n",
      "\tat kotlinx.coroutines.DispatchedTask.run(DispatchedTask.kt:108)\n",
      "\tat kotlinx.coroutines.scheduling.CoroutineScheduler.runSafely(CoroutineScheduler.kt:584)\n",
      "\tat kotlinx.coroutines.scheduling.CoroutineScheduler$Worker.executeTask(CoroutineScheduler.kt:793)\n",
      "\tat kotlinx.coroutines.scheduling.CoroutineScheduler$Worker.runWorker(CoroutineScheduler.kt:697)\n",
      "\tat kotlinx.coroutines.scheduling.CoroutineScheduler$Worker.run(CoroutineScheduler.kt:684)\n",
      "2024-03-13 11:55:51,174 [  11225]   WARN - #c.i.i.s.i.StartupManagerImpl - Migrate com.jetbrains.php.tools.quality.phpstan.PhpStanSettingsTransferStartupActivity to ProjectActivity [Plugin: com.intellij.php.tools.quality.phpstan]\n",
      "com.intellij.diagnostic.PluginException: Migrate com.jetbrains.php.tools.quality.phpstan.PhpStanSettingsTransferStartupActivity to ProjectActivity [Plugin: com.intellij.php.tools.quality.phpstan]\n",
      "\tat com.intellij.ide.startup.impl.StartupManagerImpl.runPostStartupActivities(StartupManagerImpl.kt:277)\n",
      "\tat com.intellij.ide.startup.impl.StartupManagerImpl.access$runPostStartupActivities(StartupManagerImpl.kt:69)\n",
      "\tat com.intellij.ide.startup.impl.StartupManagerImpl$runPostStartupActivities$3$2.invokeSuspend(StartupManagerImpl.kt:192)\n",
      "\tat com.intellij.ide.startup.impl.StartupManagerImpl$runPostStartupActivities$3$2.invoke(StartupManagerImpl.kt)\n",
      "\tat com.intellij.ide.startup.impl.StartupManagerImpl$runPostStartupActivities$3$2.invoke(StartupManagerImpl.kt)\n",
      "\tat kotlinx.coroutines.intrinsics.UndispatchedKt.startUndispatchedOrReturn(Undispatched.kt:78)\n",
      "\tat kotlinx.coroutines.BuildersKt__Builders_commonKt.withContext(Builders.common.kt:167)\n",
      "\tat kotlinx.coroutines.BuildersKt.withContext(Unknown Source)\n",
      "\tat com.intellij.ide.startup.impl.StartupManagerImpl$runPostStartupActivities$3.invokeSuspend(StartupManagerImpl.kt:191)\n",
      "\tat kotlin.coroutines.jvm.internal.BaseContinuationImpl.resumeWith(ContinuationImpl.kt:33)\n",
      "\tat kotlinx.coroutines.UndispatchedCoroutine.afterResume(CoroutineContext.kt:270)\n",
      "\tat kotlinx.coroutines.AbstractCoroutine.resumeWith(AbstractCoroutine.kt:102)\n",
      "\tat kotlin.coroutines.jvm.internal.BaseContinuationImpl.resumeWith(ContinuationImpl.kt:46)\n",
      "\tat kotlinx.coroutines.DispatchedTask.run(DispatchedTask.kt:108)\n",
      "\tat kotlinx.coroutines.scheduling.CoroutineScheduler.runSafely(CoroutineScheduler.kt:584)\n",
      "\tat kotlinx.coroutines.scheduling.CoroutineScheduler$Worker.executeTask(CoroutineScheduler.kt:793)\n",
      "\tat kotlinx.coroutines.scheduling.CoroutineScheduler$Worker.runWorker(CoroutineScheduler.kt:697)\n",
      "\tat kotlinx.coroutines.scheduling.CoroutineScheduler$Worker.run(CoroutineScheduler.kt:684)\n",
      "2024-03-13 11:55:51,371 [  11422]   WARN - #c.i.i.s.p.i.BundledSharedIndexPostStartupActivity - Skipped 1 pre-built shared indexes: bundled-js-predefined-1d06a55b98c1-985749b364ce-JavaScript-PS-233.14475.35\n",
      "2024-03-13 11:55:51,998 [  12049]   WARN - #c.i.s.ComponentManagerImpl - com.intellij.database.console.session.DatabaseSessionManager initializer requests com.intellij.database.console.session.DatabaseSessionViewService instance\n",
      "2024-03-13 11:56:41,684 [  61735]   WARN - #c.i.u.x.Binding - no accessors for com.intellij.ide.util.TipsUsageManager$State\n",
      "2024-03-13 12:04:02,258 [ 502309]   WARN - #c.i.s.ComponentManagerImpl - com.intellij.psi.codeStyle.CodeStyleSettingsCustomizable initializer requests com.intellij.util.LocaleSensitiveApplicationCacheService instance\n",
      "2024-03-13 12:28:39,666 [1979717]   WARN - #c.i.s.ComponentManagerImpl - com.intellij.util.text.JBDateFormat initializer requests com.intellij.util.text.DateTimeFormatManager instance\n"
     ]
    }
   ],
   "source": [
    "! phpstorm project"
   ]
  },
  {
   "cell_type": "markdown",
   "metadata": {},
   "source": [
    "Working application:\n",
    "\n",
    "![01_initial](images/01_initial.jpg)\n",
    "![02_click](images/02_click.jpg)\n",
    "![03_clicked](images/03_clicked.jpg)\n",
    "![04_click](images/04_click.jpg)\n",
    "![05_clicked](images/05_clicked.jpg)\n",
    "![06_change](images/06_change.jpg)\n",
    "![07_changed](images/07_changed.jpg)\n",
    "![08_color_change](images/08_color_change.jpg)\n",
    "![09_color_changed](images/09_color_changed.jpg)\n",
    "\n",
    "More advanced example:\n",
    "\n",
    "![11_restart](images/11_restart.jpg)\n",
    "![12_click](images/12_click.jpg)\n",
    "![13_click](images/13_click.jpg)\n",
    "![14_click](images/14_click.jpg)\n",
    "![15_click](images/15_click.jpg)\n",
    "![16_done](images/16_done.jpg)"
   ]
  },
  {
   "cell_type": "markdown",
   "metadata": {},
   "source": [
    "You can test your solution using included tests:"
   ]
  },
  {
   "cell_type": "code",
   "execution_count": 6,
   "metadata": {},
   "outputs": [
    {
     "name": "stderr",
     "output_type": "stream",
     "text": [
      "[Wed Mar 13 12:30:13 2024] Failed to listen on localhost:8888 (reason: Address already in use)\n"
     ]
    }
   ],
   "source": [
    "import subprocess\n",
    "phpServer = subprocess.Popen(['php', '-S', 'localhost:8888', '-t', 'project/'])"
   ]
  },
  {
   "cell_type": "code",
   "execution_count": 7,
   "metadata": {},
   "outputs": [
    {
     "name": "stdout",
     "output_type": "stream",
     "text": [
      "\u001b[32mInstalling dependencies from lock file (including require-dev)\u001b[39m\n",
      "\u001b[32mVerifying lock file contents can be installed on current platform.\u001b[39m\n",
      "Nothing to install, update or remove\n",
      "\u001b[32mGenerating autoload files\u001b[39m\n",
      "\u001b[32m43 packages you are using are looking for funding.\u001b[39m\n",
      "\u001b[32mUse the `composer fund` command to find out more!\u001b[39m\n",
      "Codeception PHP Testing Framework v5.1.0 https://stand-with-ukraine.pp.ua\n",
      "\n",
      "\u001b[1mTests.Acceptance Tests (4) \u001b[22m-----------------------------------------------------\n",
      "- \u001b[35;1mTest01_ColorCest:\u001b[39;22m Test"
     ]
    },
    {
     "name": "stderr",
     "output_type": "stream",
     "text": [
      "[Wed Mar 13 12:30:17 2024] [::1]:35688 Accepted\n",
      "[Wed Mar 13 12:30:17 2024] [::1]:35688 [200]: GET /\n",
      "[Wed Mar 13 12:30:17 2024] [::1]:35688 Closing\n",
      "[Wed Mar 13 12:30:17 2024] [::1]:35700 Accepted\n",
      "[Wed Mar 13 12:30:17 2024] [::1]:35700 [200]: POST /\n",
      "[Wed Mar 13 12:30:17 2024] [::1]:35700 Closing\n",
      "[Wed Mar 13 12:30:17 2024] [::1]:35710 Accepted\n",
      "[Wed Mar 13 12:30:17 2024] [::1]:35710 [200]: POST /\n",
      "[Wed Mar 13 12:30:17 2024] [::1]:35710 Closing\n",
      "[Wed Mar 13 12:30:17 2024] [::1]:35712 Accepted\n",
      "[Wed Mar 13 12:30:17 2024] [::1]:35712 [200]: POST /\n",
      "[Wed Mar 13 12:30:17 2024] [::1]:35712 Closing\n"
     ]
    },
    {
     "name": "stdout",
     "output_type": "stream",
     "text": [
      "\u001b[32;1m✔\u001b[39;22m \u001b[35;1mTest01_ColorCest:\u001b[39;22m Test\u001b[32m(0.28s)\u001b[39m\n",
      "- \u001b[35;1mTest02_SizeCest:\u001b[39;22m Test"
     ]
    },
    {
     "name": "stderr",
     "output_type": "stream",
     "text": [
      "[Wed Mar 13 12:30:17 2024] [::1]:35724 Accepted\n",
      "[Wed Mar 13 12:30:17 2024] [::1]:35724 [200]: GET /\n",
      "[Wed Mar 13 12:30:17 2024] [::1]:35724 Closing\n",
      "[Wed Mar 13 12:30:17 2024] [::1]:35740 Accepted\n",
      "[Wed Mar 13 12:30:17 2024] [::1]:35740 [200]: GET /\n",
      "[Wed Mar 13 12:30:17 2024] [::1]:35740 Closing\n",
      "[Wed Mar 13 12:30:17 2024] [::1]:35742 Accepted\n",
      "[Wed Mar 13 12:30:17 2024] [::1]:35742 [200]: POST /\n",
      "[Wed Mar 13 12:30:17 2024] [::1]:35742 Closing\n",
      "[Wed Mar 13 12:30:17 2024] [::1]:35756 Accepted\n",
      "[Wed Mar 13 12:30:17 2024] [::1]:35756 [200]: POST /\n",
      "[Wed Mar 13 12:30:17 2024] [::1]:35756 Closing\n",
      "[Wed Mar 13 12:30:17 2024] [::1]:35764 Accepted\n",
      "[Wed Mar 13 12:30:17 2024] [::1]:35764 [200]: POST /\n",
      "[Wed Mar 13 12:30:17 2024] [::1]:35764 Closing\n",
      "[Wed Mar 13 12:30:17 2024] [::1]:35780 Accepted\n",
      "[Wed Mar 13 12:30:17 2024] [::1]:35780 [200]: POST /\n",
      "[Wed Mar 13 12:30:17 2024] [::1]:35780 Closing\n",
      "[Wed Mar 13 12:30:17 2024] [::1]:35792 Accepted\n",
      "[Wed Mar 13 12:30:17 2024] [::1]:35792 [200]: POST /\n",
      "[Wed Mar 13 12:30:17 2024] [::1]:35792 Closing\n"
     ]
    },
    {
     "name": "stdout",
     "output_type": "stream",
     "text": [
      "\u001b[32;1m✔\u001b[39;22m \u001b[35;1mTest02_SizeCest:\u001b[39;22m Test\u001b[32m(0.27s)\u001b[39m\n",
      "- \u001b[35;1mTest03_LinesBasicCest:\u001b[39;22m Test"
     ]
    },
    {
     "name": "stderr",
     "output_type": "stream",
     "text": [
      "[Wed Mar 13 12:30:17 2024] [::1]:35796 Accepted\n",
      "[Wed Mar 13 12:30:17 2024] [::1]:35796 [200]: GET /\n",
      "[Wed Mar 13 12:30:17 2024] [::1]:35796 Closing\n",
      "[Wed Mar 13 12:30:17 2024] [::1]:35812 Accepted\n",
      "[Wed Mar 13 12:30:17 2024] [::1]:35812 [200]: GET /\n",
      "[Wed Mar 13 12:30:17 2024] [::1]:35812 Closing\n",
      "[Wed Mar 13 12:30:17 2024] [::1]:35822 Accepted\n",
      "[Wed Mar 13 12:30:17 2024] [::1]:35822 [200]: POST /\n",
      "[Wed Mar 13 12:30:17 2024] [::1]:35822 Closing\n",
      "[Wed Mar 13 12:30:18 2024] [::1]:35836 Accepted\n",
      "[Wed Mar 13 12:30:18 2024] [::1]:35836 [200]: GET /?x=1&z=1\n",
      "[Wed Mar 13 12:30:18 2024] [::1]:35836 Closing\n",
      "[Wed Mar 13 12:30:18 2024] [::1]:35848 Accepted\n",
      "[Wed Mar 13 12:30:18 2024] [::1]:35848 [200]: GET /?x=8&z=8\n",
      "[Wed Mar 13 12:30:18 2024] [::1]:35848 Closing\n",
      "[Wed Mar 13 12:30:18 2024] [::1]:35860 Accepted\n",
      "[Wed Mar 13 12:30:18 2024] [::1]:35860 [200]: GET /?x=8&z=1\n",
      "[Wed Mar 13 12:30:18 2024] [::1]:35860 Closing\n",
      "[Wed Mar 13 12:30:18 2024] [::1]:35864 Accepted\n",
      "[Wed Mar 13 12:30:18 2024] [::1]:35864 [200]: GET /?x=1&z=8\n",
      "[Wed Mar 13 12:30:18 2024] [::1]:35864 Closing\n"
     ]
    },
    {
     "name": "stdout",
     "output_type": "stream",
     "text": [
      "\u001b[32;1m✔\u001b[39;22m \u001b[35;1mTest03_LinesBasicCest:\u001b[39;22m Test\u001b[32m(1.28s)\u001b[39m\n",
      "- \u001b[35;1mTest04_LinesAdvancedCest:\u001b[39;22m Test"
     ]
    },
    {
     "name": "stderr",
     "output_type": "stream",
     "text": [
      "[Wed Mar 13 12:30:19 2024] [::1]:35866 Accepted\n",
      "[Wed Mar 13 12:30:19 2024] [::1]:35866 [200]: GET /\n",
      "[Wed Mar 13 12:30:19 2024] [::1]:35866 Closing\n",
      "[Wed Mar 13 12:30:19 2024] [::1]:35870 Accepted\n",
      "[Wed Mar 13 12:30:19 2024] [::1]:35870 [200]: POST /\n",
      "[Wed Mar 13 12:30:19 2024] [::1]:35870 Closing\n",
      "[Wed Mar 13 12:30:19 2024] [::1]:35874 Accepted\n",
      "[Wed Mar 13 12:30:19 2024] [::1]:35874 [200]: GET /?x=4&z=0\n",
      "[Wed Mar 13 12:30:19 2024] [::1]:35874 Closing\n",
      "[Wed Mar 13 12:30:19 2024] [::1]:35880 Accepted\n",
      "[Wed Mar 13 12:30:19 2024] [::1]:35880 [200]: GET /?x=5&z=9\n",
      "[Wed Mar 13 12:30:19 2024] [::1]:35880 Closing\n",
      "[Wed Mar 13 12:30:19 2024] [::1]:35892 Accepted\n",
      "[Wed Mar 13 12:30:19 2024] [::1]:35892 [200]: GET /?x=0&z=4\n",
      "[Wed Mar 13 12:30:19 2024] [::1]:35892 Closing\n",
      "[Wed Mar 13 12:30:20 2024] [::1]:35904 Accepted\n",
      "[Wed Mar 13 12:30:20 2024] [::1]:35904 [200]: GET /?x=9&z=5\n",
      "[Wed Mar 13 12:30:20 2024] [::1]:35904 Closing\n",
      "[Wed Mar 13 12:30:20 2024] [::1]:35906 Accepted\n",
      "[Wed Mar 13 12:30:20 2024] [::1]:35906 [200]: GET /\n",
      "[Wed Mar 13 12:30:20 2024] [::1]:35906 Closing\n",
      "[Wed Mar 13 12:30:20 2024] [::1]:35922 Accepted\n",
      "[Wed Mar 13 12:30:20 2024] [::1]:35922 [200]: POST /\n",
      "[Wed Mar 13 12:30:20 2024] [::1]:35922 Closing\n",
      "[Wed Mar 13 12:30:20 2024] [::1]:35934 Accepted\n",
      "[Wed Mar 13 12:30:20 2024] [::1]:35934 [200]: GET /?x=1&z=0\n",
      "[Wed Mar 13 12:30:20 2024] [::1]:35934 Closing\n",
      "[Wed Mar 13 12:30:20 2024] [::1]:35940 Accepted\n",
      "[Wed Mar 13 12:30:20 2024] [::1]:35940 [200]: GET /?x=5&z=9\n",
      "[Wed Mar 13 12:30:20 2024] [::1]:35940 Closing\n",
      "[Wed Mar 13 12:30:21 2024] [::1]:35948 Accepted\n",
      "[Wed Mar 13 12:30:21 2024] [::1]:35948 [200]: GET /?x=3&z=0\n",
      "[Wed Mar 13 12:30:21 2024] [::1]:35948 Closing\n",
      "[Wed Mar 13 12:30:21 2024] [::1]:35950 Accepted\n",
      "[Wed Mar 13 12:30:21 2024] [::1]:35950 [200]: GET /?x=9&z=9\n",
      "[Wed Mar 13 12:30:21 2024] [::1]:35950 Closing\n"
     ]
    },
    {
     "name": "stdout",
     "output_type": "stream",
     "text": [
      "\u001b[32;1m✔\u001b[39;22m \u001b[35;1mTest04_LinesAdvancedCest:\u001b[39;22m Test\u001b[32m(2.49s)\u001b[39m\n",
      "--------------------------------------------------------------------------------\n",
      "Time: 00:04.528, Memory: 16.00 MB\n",
      "\n",
      "\u001b[30;42mOK (4 tests, 1916 assertions)\u001b[39;49m\n"
     ]
    }
   ],
   "source": [
    "! cd tests && composer install && vendor/bin/codecept run"
   ]
  },
  {
   "cell_type": "code",
   "execution_count": 8,
   "metadata": {},
   "outputs": [],
   "source": [
    "phpServer.kill()"
   ]
  }
 ],
 "metadata": {
  "kernelspec": {
   "display_name": "Python 3 (ipykernel)",
   "language": "python",
   "name": "python3"
  },
  "language_info": {
   "codemirror_mode": {
    "name": "ipython",
    "version": 3
   },
   "file_extension": ".py",
   "mimetype": "text/x-python",
   "name": "python",
   "nbconvert_exporter": "python",
   "pygments_lexer": "ipython3",
   "version": "3.11.5"
  }
 },
 "nbformat": 4,
 "nbformat_minor": 4
}
