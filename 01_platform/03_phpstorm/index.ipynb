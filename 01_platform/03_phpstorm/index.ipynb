{
 "cells": [
  {
   "cell_type": "markdown",
   "metadata": {},
   "source": [
    "# PHP"
   ]
  },
  {
   "cell_type": "markdown",
   "metadata": {},
   "source": [
    "## 1. Platform"
   ]
  },
  {
   "cell_type": "markdown",
   "metadata": {},
   "source": [
    "### 1.3. PhpStorm"
   ]
  },
  {
   "cell_type": "markdown",
   "metadata": {},
   "source": [
    "To be able to use the PhpStorm IDE you have to create free academic account. That can be done throgh the [JetBrains Products for Learning](https://www.jetbrains.com/shop/eform/students) page. You should use an email address in the **agh.edu.pl** domain."
   ]
  },
  {
   "cell_type": "markdown",
   "metadata": {},
   "source": [
    "#### Initial Setup"
   ]
  },
  {
   "cell_type": "markdown",
   "metadata": {},
   "source": [
    "Let's create new directory with single PHP file and open the directory using PhpStorm. When IDE starts add following code:"
   ]
  },
  {
   "cell_type": "markdown",
   "metadata": {},
   "source": [
    "```php\n",
    "<?php\n",
    "\n",
    "$i = 10;\n",
    "$i = $i + 10;\n",
    "echo \"Result: <strong>$i</strong>\";\n",
    "```"
   ]
  },
  {
   "cell_type": "markdown",
   "metadata": {},
   "source": [
    "When done, close the editor."
   ]
  },
  {
   "cell_type": "code",
   "execution_count": null,
   "metadata": {},
   "outputs": [],
   "source": [
    "! mkdir project && touch project/index.php && phpstorm project"
   ]
  },
  {
   "cell_type": "markdown",
   "metadata": {},
   "source": [
    "<img src=\"01_initial/01_user_agreement.jpg\"/>\n",
    "<img src=\"01_initial/02_data_sharing.jpg\"/>\n",
    "<img src=\"01_initial/03_trust_project.jpg\"/>\n",
    "<img src=\"01_initial/04_full_view_after_first_opening.jpg\"/>\n",
    "<img src=\"01_initial/05_clicking_on_logging_in_does_not_yet_work.jpg\"/>\n",
    "\n",
    "**Important!** There will be some trouble at this point because the browser is not yet configured, so we cannot login to our account. We will first start with a trial, and then add proper license in the settings.\n",
    "\n",
    "<img src=\"01_initial/06_start_trial_as_we_cannot_yet_login.jpg\"/>\n",
    "<img src=\"01_initial/07_continue_out_of_current_window.jpg\"/>\n",
    "<img src=\"01_initial/08_click_on_main_menu.jpg\"/>\n",
    "<img src=\"01_initial/09_go_to_settings.jpg\"/>\n",
    "<img src=\"01_initial/10_search_for_browsers.jpg\"/>\n",
    "<img src=\"01_initial/11_disable_firefox_and_select_first_listed.jpg\"/>\n",
    "<img src=\"01_initial/12_click_ok_to_save_changes.jpg\"/>\n",
    "<img src=\"01_initial/13_go_to_register_option_under_help_menu.jpg\"/>\n",
    "<img src=\"01_initial/14_remove_trial_license.jpg\"/>\n",
    "<img src=\"01_initial/15_confirm_removal.jpg\"/>\n",
    "<img src=\"01_initial/16_login_to_jetbrains_account.jpg\"/>\n",
    "<img src=\"01_initial/17_browser_window_will_appear.jpg\"/>\n",
    "<img src=\"01_initial/18_enter_you_credential_and_sign_in.jpg\"/>\n",
    "<img src=\"01_initial/19_do_not_save_the_credentials.jpg\"/>\n",
    "<img src=\"01_initial/20_close_the_browser.jpg\"/>\n",
    "<img src=\"01_initial/21_activate_the_product_with_full_license.jpg\"/>\n",
    "<img src=\"01_initial/22_continue_back_to_the_editor.jpg\"/>\n",
    "<img src=\"01_initial/23_hide_the_ai_assistant.jpg\"/>\n",
    "<img src=\"01_initial/24_open_the_php_file.jpg\"/>\n",
    "<img src=\"01_initial/25_paste_in_the_code_and_close_the_editor.jpg\"/>\n",
    "<img src=\"01_initial/26_mark_do_not_ask_again_and_confirm_exit.jpg\"/>"
   ]
  },
  {
   "cell_type": "markdown",
   "metadata": {},
   "source": [
    "Now you should be able to run the code:"
   ]
  },
  {
   "cell_type": "code",
   "execution_count": null,
   "metadata": {},
   "outputs": [],
   "source": [
    "! php project/index.php"
   ]
  },
  {
   "cell_type": "markdown",
   "metadata": {},
   "source": [
    "All the PhpStorm project files are stored inside the **.idea** directory:"
   ]
  },
  {
   "cell_type": "code",
   "execution_count": null,
   "metadata": {},
   "outputs": [],
   "source": [
    "! ls -la project"
   ]
  },
  {
   "cell_type": "markdown",
   "metadata": {},
   "source": [
    "You can remove this direrectory if something wrong happens in the IDE.\n",
    "\n",
    "When opening project for the second time it should restore previous state."
   ]
  },
  {
   "cell_type": "markdown",
   "metadata": {},
   "source": [
    "#### Configuring the PHP Interpreter"
   ]
  },
  {
   "cell_type": "markdown",
   "metadata": {},
   "source": [
    "To run the code from inside the IDE we can configure the PHP interpreter:"
   ]
  },
  {
   "cell_type": "code",
   "execution_count": null,
   "metadata": {},
   "outputs": [],
   "source": [
    "! phpstorm project"
   ]
  },
  {
   "cell_type": "markdown",
   "metadata": {},
   "source": [
    "<img src=\"02_interpreter/01_mark_to_not_show_again_and_close_the_tip_of_the_day.jpg\"/>\n",
    "<img src=\"02_interpreter/02_go_to_settings_to_configure_the_interpreter.jpg\"/>\n",
    "<img src=\"02_interpreter/03_select_the_php_section.jpg\"/>\n",
    "<img src=\"02_interpreter/04_select_the_latest_php_8_3_version.jpg\"/>\n",
    "<img src=\"02_interpreter/05_click_ok_to_exit_from_settings.jpg\"/>\n",
    "<img src=\"02_interpreter/06_the_lastest_version_of_php_will_be_visible_in_the_status_bar.jpg\"/>\n",
    "<img src=\"02_interpreter/07_now_we_can_run_the_script_from_the_ide.jpg\"/>\n",
    "<img src=\"02_interpreter/08_look_at_the_output_and_close_the_editor.jpg\"/>"
   ]
  },
  {
   "cell_type": "markdown",
   "metadata": {},
   "source": [
    "#### Debugging simple scripts"
   ]
  },
  {
   "cell_type": "markdown",
   "metadata": {},
   "source": [
    "Debugging for simple scripts should work right out of the box:"
   ]
  },
  {
   "cell_type": "code",
   "execution_count": null,
   "metadata": {},
   "outputs": [],
   "source": [
    "! phpstorm project"
   ]
  },
  {
   "cell_type": "markdown",
   "metadata": {},
   "source": [
    "<img src=\"03_cli_debug/01_add_breakpoint.jpg\"/>\n",
    "<img src=\"03_cli_debug/02_debug.jpg\"/>\n",
    "<img src=\"03_cli_debug/03_step_over.jpg\"/>\n",
    "<img src=\"03_cli_debug/04_set_value.jpg\"/>\n",
    "<img src=\"03_cli_debug/05_set_value.jpg\"/>\n",
    "<img src=\"03_cli_debug/06_continue.jpg\"/>\n",
    "<img src=\"03_cli_debug/07_outpt_and_exit.jpg\"/>"
   ]
  },
  {
   "cell_type": "markdown",
   "metadata": {},
   "source": [
    "#### Running webserver"
   ]
  },
  {
   "cell_type": "markdown",
   "metadata": {},
   "source": [
    "It is done in the same way as from the command line - using built-in PHP server:"
   ]
  },
  {
   "cell_type": "code",
   "execution_count": null,
   "metadata": {
    "scrolled": true
   },
   "outputs": [],
   "source": [
    "! phpstorm project"
   ]
  },
  {
   "cell_type": "markdown",
   "metadata": {},
   "source": [
    "<img src=\"04_server/01_click_terminal.jpg\"/>\n",
    "<img src=\"04_server/02_notification_about_path.jpg\"/>\n",
    "<img src=\"04_server/03_click_link.jpg\"/>\n",
    "<img src=\"04_server/04_see_result_in_chrom_and_close_it.jpg\"/>\n",
    "<img src=\"04_server/05_notification_about_javascript_debug.jpg\"/>\n",
    "<img src=\"04_server/06_exit.jpg\"/>"
   ]
  },
  {
   "cell_type": "markdown",
   "metadata": {},
   "source": [
    "#### Debugging in webserver"
   ]
  },
  {
   "cell_type": "code",
   "execution_count": null,
   "metadata": {
    "scrolled": true
   },
   "outputs": [],
   "source": [
    "! phpstorm project"
   ]
  },
  {
   "cell_type": "markdown",
   "metadata": {},
   "source": [
    "**Important!** Do not forget to click the icon to start listening for PHP Debug Connections."
   ]
  },
  {
   "cell_type": "markdown",
   "metadata": {},
   "source": [
    "<img src=\"05_web_debug/01_start_listening_for_connections.jpg\"/>\n",
    "<img src=\"05_web_debug/02_got_it_about_validate_debugger_dialog.jpg\"/>\n",
    "<img src=\"05_web_debug/03_click_to_open_chrome.jpg\"/>\n",
    "<img src=\"05_web_debug/04_cick_on_extensions.jpg\"/>\n",
    "<img src=\"05_web_debug/05_pin_xdebug_helper.jpg\"/>\n",
    "<img src=\"05_web_debug/06_enable_xdebug_helper.jpg\"/>\n",
    "<img src=\"05_web_debug/07_refresh_the_page.jpg\"/>\n",
    "<img src=\"05_web_debug/08_accept_connection_in_phpstorm.jpg\"/>\n",
    "<img src=\"05_web_debug/09_step_over.jpg\"/>\n",
    "<img src=\"05_web_debug/10_set_value.jpg\"/>\n",
    "<img src=\"05_web_debug/11_set_value.jpg\"/>\n",
    "<img src=\"05_web_debug/12_resume.jpg\"/>\n",
    "<img src=\"05_web_debug/13_see_result_and_disable_xdebug_helper.jpg\"/>\n",
    "<img src=\"05_web_debug/14_reload_no_debug_triggered.jpg\"/>\n",
    "<img src=\"05_web_debug/15_close_chrome.jpg\"/>\n",
    "<img src=\"05_web_debug/16_close_debug_console.jpg\"/>\n",
    "<img src=\"05_web_debug/17_click_terminal.jpg\"/>\n",
    "<img src=\"05_web_debug/18_kill_server_and_stop_listening.jpg\"/>\n",
    "<img src=\"05_web_debug/19_close_phpstorm.jpg\"/>"
   ]
  },
  {
   "cell_type": "markdown",
   "metadata": {},
   "source": [
    "#### Configuring webserver run-configuration"
   ]
  },
  {
   "cell_type": "code",
   "execution_count": null,
   "metadata": {},
   "outputs": [],
   "source": [
    "! phpstorm project"
   ]
  },
  {
   "cell_type": "markdown",
   "metadata": {},
   "source": [
    "<img src=\"06_webserver_config/01_edit_config.jpg\"/>\n",
    "<img src=\"06_webserver_config/02_add_new_configuration.jpg\"/>\n",
    "<img src=\"06_webserver_config/03_php_web_page.jpg\"/>\n",
    "<img src=\"06_webserver_config/04_enter_name_and_select_server_config.jpg\"/>\n",
    "<img src=\"06_webserver_config/05_add.jpg\"/>\n",
    "<img src=\"06_webserver_config/06_fill_config_and_ok.jpg\"/>\n",
    "<img src=\"06_webserver_config/07_ok.jpg\"/>\n",
    "<img src=\"06_webserver_config/08_run.jpg\"/>\n",
    "<img src=\"06_webserver_config/09_close_chrome.jpg\"/>\n",
    "<img src=\"06_webserver_config/10_debug.jpg\"/>\n",
    "<img src=\"06_webserver_config/11_chrome_is_waiting.jpg\"/>\n",
    "<img src=\"06_webserver_config/12_step_over.jpg\"/>\n",
    "<img src=\"06_webserver_config/13_chrome_still_waiting.jpg\"/>\n",
    "<img src=\"06_webserver_config/14_resume.jpg\"/>\n",
    "<img src=\"06_webserver_config/15_chrome_ready_close_it.jpg\"/>\n",
    "<img src=\"06_webserver_config/16_stop_debugging.jpg\"/>\n",
    "<img src=\"06_webserver_config/17_go_to_terminal.jpg\"/>\n",
    "<img src=\"06_webserver_config/18_stop_server_and_close_the_window.jpg\"/>"
   ]
  },
  {
   "cell_type": "markdown",
   "metadata": {},
   "source": [
    "#### Miscellaneous"
   ]
  },
  {
   "cell_type": "code",
   "execution_count": null,
   "metadata": {},
   "outputs": [],
   "source": [
    "! phpstorm project"
   ]
  },
  {
   "cell_type": "markdown",
   "metadata": {},
   "source": [
    "<img src=\"07_misc/01_click_on_the_chrom_icon_to_run_throgh_the_fast_cgi.jpg\"/>\n",
    "<img src=\"07_misc/02_see_the_different_url_in_chrom_and_close_the_window.jpg\"/>\n",
    "<img src=\"07_misc/03_click_on_the_built_in_preview.jpg\"/>\n",
    "<img src=\"07_misc/04_close_the_hint.jpg\"/>\n",
    "<img src=\"07_misc/05_edit_code_preview_will_be_refreshed_on_save.jpg\"/>\n",
    "<img src=\"07_misc/06_go_to_settings.jpg\"/>\n",
    "<img src=\"07_misc/07_select_your_favorite_keymap.jpg\"/>\n",
    "<img src=\"07_misc/08_click_ok.jpg\"/>\n",
    "<img src=\"07_misc/09_add_some_library_function_call.jpg\"/>\n",
    "\n",
    "**Important!** I have clicked F3 in here with is used to go to definition in the keymap that I use.\n",
    "\n",
    "<img src=\"07_misc/10_after_clicking_f3_the_definition_is_shown.jpg\"/>\n",
    "<img src=\"07_misc/11_close.jpg\"/>"
   ]
  },
  {
   "cell_type": "code",
   "execution_count": null,
   "metadata": {},
   "outputs": [],
   "source": [
    "! rm -rf project"
   ]
  }
 ],
 "metadata": {
  "kernelspec": {
   "display_name": "Python 3 (ipykernel)",
   "language": "python",
   "name": "python3"
  },
  "language_info": {
   "codemirror_mode": {
    "name": "ipython",
    "version": 3
   },
   "file_extension": ".py",
   "mimetype": "text/x-python",
   "name": "python",
   "nbconvert_exporter": "python",
   "pygments_lexer": "ipython3",
   "version": "3.11.5"
  }
 },
 "nbformat": 4,
 "nbformat_minor": 4
}
