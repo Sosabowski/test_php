{
 "cells": [
  {
   "cell_type": "markdown",
   "metadata": {},
   "source": [
    "# PHP"
   ]
  },
  {
   "cell_type": "markdown",
   "metadata": {},
   "source": [
    "## 1. Platform"
   ]
  },
  {
   "cell_type": "markdown",
   "metadata": {},
   "source": [
    "### 1.1. Interpreter"
   ]
  },
  {
   "cell_type": "markdown",
   "metadata": {},
   "source": [
    "Let us check the interpreter's version:"
   ]
  },
  {
   "cell_type": "code",
   "execution_count": 1,
   "metadata": {},
   "outputs": [
    {
     "name": "stdout",
     "output_type": "stream",
     "text": [
      "PHP 8.3.0-1ubuntu1 (cli) (built: Jan 19 2024 14:00:34) (NTS)\n",
      "Copyright (c) The PHP Group\n",
      "Zend Engine v4.3.0, Copyright (c) Zend Technologies\n",
      "    with Zend OPcache v8.3.0-1ubuntu1, Copyright (c), by Zend Technologies\n",
      "    with Xdebug v3.2.0, Copyright (c) 2002-2022, by Derick Rethans\n"
     ]
    }
   ],
   "source": [
    "! php --version"
   ]
  },
  {
   "cell_type": "markdown",
   "metadata": {},
   "source": [
    "Next, create an empty PHP file:"
   ]
  },
  {
   "cell_type": "code",
   "execution_count": 2,
   "metadata": {},
   "outputs": [],
   "source": [
    "! touch index.php"
   ]
  },
  {
   "cell_type": "markdown",
   "metadata": {},
   "source": [
    "Now open the file by clicking on [index.php](/edit/01_platform/01_interpreter/index.php) and add the following code:"
   ]
  },
  {
   "cell_type": "markdown",
   "metadata": {},
   "source": [
    "```php\n",
    "<?php\n",
    "echo \"Hello <strong>World</strong>!\";\n",
    "```"
   ]
  },
  {
   "cell_type": "markdown",
   "metadata": {},
   "source": [
    "When done, save the file and execute the code:"
   ]
  },
  {
   "cell_type": "code",
   "execution_count": 3,
   "metadata": {},
   "outputs": [
    {
     "name": "stdout",
     "output_type": "stream",
     "text": [
      "Hello <strong>World</strong>!"
     ]
    }
   ],
   "source": [
    "! php index.php"
   ]
  },
  {
   "cell_type": "markdown",
   "metadata": {},
   "source": [
    "The code above was executed using only the PHP interpreter - there was no webserver involved.\n",
    "\n",
    "If we want to run the simplest possible server, we can use the one integrated into PHP:"
   ]
  },
  {
   "cell_type": "code",
   "execution_count": 4,
   "metadata": {},
   "outputs": [
    {
     "name": "stdout",
     "output_type": "stream",
     "text": [
      "[Thu Feb 29 20:15:21 2024] PHP 8.3.0-1ubuntu1 Development Server (http://localhost:8888) started\n",
      "[Thu Feb 29 20:15:30 2024] [::1]:37458 Accepted\n",
      "[Thu Feb 29 20:15:38 2024] \u001b[32m[::1]:37458 [200]: GET /\u001b[0m\n",
      "[Thu Feb 29 20:15:38 2024] [::1]:37458 Closing\n",
      "[Thu Feb 29 20:15:38 2024] [::1]:37460 Accepted\n",
      "^C\n"
     ]
    }
   ],
   "source": [
    "! php -S localhost:8888"
   ]
  },
  {
   "cell_type": "markdown",
   "metadata": {},
   "source": [
    "To open the page go to [http://localhost:8888](http://localhost:8888).\n",
    "\n",
    "What is the difference between the console and browser output?"
   ]
  },
  {
   "cell_type": "markdown",
   "metadata": {},
   "source": [
    "Remember to stop above cell when done and to remove the file:"
   ]
  },
  {
   "cell_type": "code",
   "execution_count": 5,
   "metadata": {},
   "outputs": [],
   "source": [
    "! rm index.php"
   ]
  },
  {
   "cell_type": "code",
   "execution_count": null,
   "metadata": {},
   "outputs": [],
   "source": []
  }
 ],
 "metadata": {
  "kernelspec": {
   "display_name": "Python 3 (ipykernel)",
   "language": "python",
   "name": "python3"
  },
  "language_info": {
   "codemirror_mode": {
    "name": "ipython",
    "version": 3
   },
   "file_extension": ".py",
   "mimetype": "text/x-python",
   "name": "python",
   "nbconvert_exporter": "python",
   "pygments_lexer": "ipython3",
   "version": "3.11.5"
  }
 },
 "nbformat": 4,
 "nbformat_minor": 4
}
